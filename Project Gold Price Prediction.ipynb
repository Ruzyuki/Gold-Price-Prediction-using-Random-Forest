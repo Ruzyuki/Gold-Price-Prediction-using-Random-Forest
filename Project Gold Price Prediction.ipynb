{
 "cells": [
  {
   "cell_type": "code",
   "execution_count": 2,
   "id": "3fdbd602",
   "metadata": {},
   "outputs": [],
   "source": [
    "import numpy as np\n",
    "import pandas as pd\n",
    "import matplotlib.pyplot as plt\n",
    "import seaborn as sns\n",
    "from sklearn.model_selection import train_test_split\n",
    "from sklearn.ensemble import RandomForestRegressor\n",
    "from sklearn import metrics"
   ]
  },
  {
   "cell_type": "markdown",
   "id": "1fbd0207",
   "metadata": {},
   "source": [
    "Data Collection and Processing"
   ]
  },
  {
   "cell_type": "code",
   "execution_count": 13,
   "id": "ca1a0378",
   "metadata": {},
   "outputs": [],
   "source": [
    "# loading the csv data to a pandas dataframe\n",
    "gold_data = pd.read_csv(\"gold_price_data.csv\")"
   ]
  },
  {
   "cell_type": "code",
   "execution_count": 14,
   "id": "1b85334a",
   "metadata": {
    "scrolled": true
   },
   "outputs": [
    {
     "data": {
      "text/html": [
       "<div>\n",
       "<style scoped>\n",
       "    .dataframe tbody tr th:only-of-type {\n",
       "        vertical-align: middle;\n",
       "    }\n",
       "\n",
       "    .dataframe tbody tr th {\n",
       "        vertical-align: top;\n",
       "    }\n",
       "\n",
       "    .dataframe thead th {\n",
       "        text-align: right;\n",
       "    }\n",
       "</style>\n",
       "<table border=\"1\" class=\"dataframe\">\n",
       "  <thead>\n",
       "    <tr style=\"text-align: right;\">\n",
       "      <th></th>\n",
       "      <th>Date</th>\n",
       "      <th>SPX</th>\n",
       "      <th>GLD</th>\n",
       "      <th>USO</th>\n",
       "      <th>SLV</th>\n",
       "      <th>EUR/USD</th>\n",
       "    </tr>\n",
       "  </thead>\n",
       "  <tbody>\n",
       "    <tr>\n",
       "      <th>0</th>\n",
       "      <td>1/2/2008</td>\n",
       "      <td>1447.160034</td>\n",
       "      <td>84.860001</td>\n",
       "      <td>78.470001</td>\n",
       "      <td>15.180</td>\n",
       "      <td>1.471692</td>\n",
       "    </tr>\n",
       "    <tr>\n",
       "      <th>1</th>\n",
       "      <td>1/3/2008</td>\n",
       "      <td>1447.160034</td>\n",
       "      <td>85.570000</td>\n",
       "      <td>78.370003</td>\n",
       "      <td>15.285</td>\n",
       "      <td>1.474491</td>\n",
       "    </tr>\n",
       "    <tr>\n",
       "      <th>2</th>\n",
       "      <td>1/4/2008</td>\n",
       "      <td>1411.630005</td>\n",
       "      <td>85.129997</td>\n",
       "      <td>77.309998</td>\n",
       "      <td>15.167</td>\n",
       "      <td>1.475492</td>\n",
       "    </tr>\n",
       "    <tr>\n",
       "      <th>3</th>\n",
       "      <td>1/7/2008</td>\n",
       "      <td>1416.180054</td>\n",
       "      <td>84.769997</td>\n",
       "      <td>75.500000</td>\n",
       "      <td>15.053</td>\n",
       "      <td>1.468299</td>\n",
       "    </tr>\n",
       "    <tr>\n",
       "      <th>4</th>\n",
       "      <td>1/8/2008</td>\n",
       "      <td>1390.189941</td>\n",
       "      <td>86.779999</td>\n",
       "      <td>76.059998</td>\n",
       "      <td>15.590</td>\n",
       "      <td>1.557099</td>\n",
       "    </tr>\n",
       "  </tbody>\n",
       "</table>\n",
       "</div>"
      ],
      "text/plain": [
       "       Date          SPX        GLD        USO     SLV   EUR/USD\n",
       "0  1/2/2008  1447.160034  84.860001  78.470001  15.180  1.471692\n",
       "1  1/3/2008  1447.160034  85.570000  78.370003  15.285  1.474491\n",
       "2  1/4/2008  1411.630005  85.129997  77.309998  15.167  1.475492\n",
       "3  1/7/2008  1416.180054  84.769997  75.500000  15.053  1.468299\n",
       "4  1/8/2008  1390.189941  86.779999  76.059998  15.590  1.557099"
      ]
     },
     "execution_count": 14,
     "metadata": {},
     "output_type": "execute_result"
    }
   ],
   "source": [
    "gold_data.head()"
   ]
  },
  {
   "cell_type": "code",
   "execution_count": 15,
   "id": "6a850d60",
   "metadata": {},
   "outputs": [
    {
     "data": {
      "text/plain": [
       "(2290, 6)"
      ]
     },
     "execution_count": 15,
     "metadata": {},
     "output_type": "execute_result"
    }
   ],
   "source": [
    "gold_data.shape"
   ]
  },
  {
   "cell_type": "code",
   "execution_count": 24,
   "id": "7318e680",
   "metadata": {},
   "outputs": [
    {
     "data": {
      "text/html": [
       "<div>\n",
       "<style scoped>\n",
       "    .dataframe tbody tr th:only-of-type {\n",
       "        vertical-align: middle;\n",
       "    }\n",
       "\n",
       "    .dataframe tbody tr th {\n",
       "        vertical-align: top;\n",
       "    }\n",
       "\n",
       "    .dataframe thead th {\n",
       "        text-align: right;\n",
       "    }\n",
       "</style>\n",
       "<table border=\"1\" class=\"dataframe\">\n",
       "  <thead>\n",
       "    <tr style=\"text-align: right;\">\n",
       "      <th></th>\n",
       "      <th>SPX</th>\n",
       "      <th>GLD</th>\n",
       "      <th>USO</th>\n",
       "      <th>SLV</th>\n",
       "      <th>EUR/USD</th>\n",
       "    </tr>\n",
       "  </thead>\n",
       "  <tbody>\n",
       "    <tr>\n",
       "      <th>count</th>\n",
       "      <td>2290.000000</td>\n",
       "      <td>2290.000000</td>\n",
       "      <td>2290.000000</td>\n",
       "      <td>2290.000000</td>\n",
       "      <td>2290.000000</td>\n",
       "    </tr>\n",
       "    <tr>\n",
       "      <th>mean</th>\n",
       "      <td>1654.315776</td>\n",
       "      <td>122.732875</td>\n",
       "      <td>31.842221</td>\n",
       "      <td>20.084997</td>\n",
       "      <td>1.283653</td>\n",
       "    </tr>\n",
       "    <tr>\n",
       "      <th>std</th>\n",
       "      <td>519.111540</td>\n",
       "      <td>23.283346</td>\n",
       "      <td>19.523517</td>\n",
       "      <td>7.092566</td>\n",
       "      <td>0.131547</td>\n",
       "    </tr>\n",
       "    <tr>\n",
       "      <th>min</th>\n",
       "      <td>676.530029</td>\n",
       "      <td>70.000000</td>\n",
       "      <td>7.960000</td>\n",
       "      <td>8.850000</td>\n",
       "      <td>1.039047</td>\n",
       "    </tr>\n",
       "    <tr>\n",
       "      <th>25%</th>\n",
       "      <td>1239.874969</td>\n",
       "      <td>109.725000</td>\n",
       "      <td>14.380000</td>\n",
       "      <td>15.570000</td>\n",
       "      <td>1.171313</td>\n",
       "    </tr>\n",
       "    <tr>\n",
       "      <th>50%</th>\n",
       "      <td>1551.434998</td>\n",
       "      <td>120.580002</td>\n",
       "      <td>33.869999</td>\n",
       "      <td>17.268500</td>\n",
       "      <td>1.303297</td>\n",
       "    </tr>\n",
       "    <tr>\n",
       "      <th>75%</th>\n",
       "      <td>2073.010070</td>\n",
       "      <td>132.840004</td>\n",
       "      <td>37.827501</td>\n",
       "      <td>22.882500</td>\n",
       "      <td>1.369971</td>\n",
       "    </tr>\n",
       "    <tr>\n",
       "      <th>max</th>\n",
       "      <td>2872.870117</td>\n",
       "      <td>184.589996</td>\n",
       "      <td>117.480003</td>\n",
       "      <td>47.259998</td>\n",
       "      <td>1.598798</td>\n",
       "    </tr>\n",
       "  </tbody>\n",
       "</table>\n",
       "</div>"
      ],
      "text/plain": [
       "               SPX          GLD          USO          SLV      EUR/USD\n",
       "count  2290.000000  2290.000000  2290.000000  2290.000000  2290.000000\n",
       "mean   1654.315776   122.732875    31.842221    20.084997     1.283653\n",
       "std     519.111540    23.283346    19.523517     7.092566     0.131547\n",
       "min     676.530029    70.000000     7.960000     8.850000     1.039047\n",
       "25%    1239.874969   109.725000    14.380000    15.570000     1.171313\n",
       "50%    1551.434998   120.580002    33.869999    17.268500     1.303297\n",
       "75%    2073.010070   132.840004    37.827501    22.882500     1.369971\n",
       "max    2872.870117   184.589996   117.480003    47.259998     1.598798"
      ]
     },
     "execution_count": 24,
     "metadata": {},
     "output_type": "execute_result"
    }
   ],
   "source": [
    "gold_data.describe()"
   ]
  },
  {
   "cell_type": "code",
   "execution_count": 29,
   "id": "1e5ec919",
   "metadata": {},
   "outputs": [],
   "source": [
    "correlation = gold_data.corr()"
   ]
  },
  {
   "cell_type": "code",
   "execution_count": 31,
   "id": "76e468f3",
   "metadata": {},
   "outputs": [
    {
     "data": {
      "text/plain": [
       "<AxesSubplot:>"
      ]
     },
     "execution_count": 31,
     "metadata": {},
     "output_type": "execute_result"
    },
    {
     "data": {
      "image/png": "[encoded data removed]",
      "text/plain": [
       "<Figure size 576x576 with 2 Axes>"
      ]
     },
     "metadata": {
      "needs_background": "light"
     },
     "output_type": "display_data"
    }
   ],
   "source": [
    "#constructing the Heatmap to understand the correlation\n",
    "plt.figure(figsize=(8,8))\n",
    "sns.heatmap(correlation, cbar = True, square = True, fmt='.1f',annot=True, annot_kws={'size':8},cmap='Blues')"
   ]
  },
  {
   "cell_type": "code",
   "execution_count": 32,
   "id": "b348931b",
   "metadata": {},
   "outputs": [
    {
     "name": "stdout",
     "output_type": "stream",
     "text": [
      "SPX        0.049345\n",
      "GLD        1.000000\n",
      "USO       -0.186360\n",
      "SLV        0.866632\n",
      "EUR/USD   -0.024375\n",
      "Name: GLD, dtype: float64\n"
     ]
    }
   ],
   "source": [
    "# correlation values of GLD\n",
    "print(correlation['GLD']) "
   ]
  },
  {
   "cell_type": "markdown",
   "id": "a36637cd",
   "metadata": {},
   "source": [
    "#checking the distribution of gold price\n",
    "sns.distplot(gold_data['GLD'], color = 'green')"
   ]
  },
  {
   "cell_type": "code",
   "execution_count": 37,
   "id": "1a39cbc1",
   "metadata": {},
   "outputs": [],
   "source": [
    "# train test split\n",
    "X = gold_data.drop(['Date','GLD'],axis=1)\n",
    "Y = gold_data['GLD']"
   ]
  },
  {
   "cell_type": "code",
   "execution_count": 41,
   "id": "6e9c4300",
   "metadata": {},
   "outputs": [],
   "source": [
    "X_train,X_test,Y_train,Y_test=train_test_split(X,Y,test_size=0.2,random_state = 2 )"
   ]
  },
  {
   "cell_type": "markdown",
   "id": "8ec26c3a",
   "metadata": {},
   "source": [
    "# Model Training"
   ]
  },
  {
   "cell_type": "markdown",
   "id": "9276125d",
   "metadata": {},
   "source": [
    "# Using Random Forest Algorithm"
   ]
  },
  {
   "cell_type": "code",
   "execution_count": 43,
   "id": "c74ea0a1",
   "metadata": {},
   "outputs": [],
   "source": [
    "regressor = RandomForestRegressor(n_estimators=100)"
   ]
  },
  {
   "cell_type": "code",
   "execution_count": 44,
   "id": "fd920706",
   "metadata": {},
   "outputs": [
    {
     "data": {
      "text/plain": [
       "RandomForestRegressor()"
      ]
     },
     "execution_count": 44,
     "metadata": {},
     "output_type": "execute_result"
    }
   ],
   "source": [
    "# training the model\n",
    "regressor.fit(X_train,Y_train)"
   ]
  },
  {
   "cell_type": "markdown",
   "id": "54e7c08f",
   "metadata": {},
   "source": [
    "# Model Evaluation"
   ]
  },
  {
   "cell_type": "code",
   "execution_count": 45,
   "id": "a1045067",
   "metadata": {},
   "outputs": [],
   "source": [
    "# prediction on Test Data\n",
    "test_data_prediction = regressor.predict(X_test)"
   ]
  },
  {
   "cell_type": "code",
   "execution_count": 46,
   "id": "802f6831",
   "metadata": {},
   "outputs": [
    {
     "data": {
      "text/plain": [
       "array([168.52779895,  81.69829983, 115.84120038, 127.72990102,\n",
       "       120.68700118, 154.65559813, 150.19509871, 126.14020037,\n",
       "       117.30229865, 125.97850035, 116.77790113, 171.98010084,\n",
       "       141.70899848, 167.96659847, 115.26280017, 117.83360027,\n",
       "       139.71960326, 170.08930046, 159.64220386, 157.6097998 ,\n",
       "       155.21619984, 125.23750014, 175.63059975, 156.97960389,\n",
       "       125.26610079,  93.66590003,  78.36629978, 120.43159994,\n",
       "       119.16459967, 167.40739991,  88.24330038, 125.38910026,\n",
       "        91.11290096, 117.76470006, 121.19059927, 136.70100138,\n",
       "       115.81610113, 114.78350068, 147.02800005, 107.2429013 ,\n",
       "       104.45830198,  87.16699792, 126.57080056, 118.06859948,\n",
       "       152.83459887, 119.63169968, 108.38230017, 108.14109834,\n",
       "        93.19040072, 127.09379778,  75.16760038, 113.59029897,\n",
       "       121.43659995, 111.2030992 , 118.90199909, 121.20349911,\n",
       "       160.09599984, 168.03880097, 146.98909665,  85.84699845,\n",
       "        94.19940046,  86.84939891,  90.36759977, 118.91770069,\n",
       "       126.42750046, 127.53440025, 169.83840049, 122.25119918,\n",
       "       117.32909898,  98.7216004 , 168.5681017 , 142.93919795,\n",
       "       132.08570271, 121.19450235, 121.69929937, 119.57620082,\n",
       "       114.35660166, 118.23480044, 107.03360097, 127.83710029,\n",
       "       113.78789986, 107.77629979, 116.52030066, 119.66959868,\n",
       "        88.95820061,  88.2517986 , 146.5432019 , 127.16580009,\n",
       "       113.11870031, 110.29599868, 108.29199911,  77.90729896,\n",
       "       168.36920211, 114.11859905, 121.67609917, 128.16190192,\n",
       "       154.85479862,  91.71419917, 136.43220108, 158.93720292,\n",
       "       126.00690063, 125.44510029, 130.53050192, 115.10730079,\n",
       "       119.81639997,  92.06069995, 110.34739875, 167.96179941,\n",
       "       157.92949876, 114.30679938, 106.59470123,  79.82879971,\n",
       "       113.33590033, 125.81160051, 107.17949988, 119.62360066,\n",
       "       155.14550253, 159.12129875, 120.139     , 134.17480356,\n",
       "       101.28460012, 117.64179791, 119.24960017, 113.02480076,\n",
       "       102.74429907, 159.83469823,  99.00290051, 147.35739931,\n",
       "       125.53500111, 170.0055997 , 125.81369793, 127.35749727,\n",
       "       127.19570099, 113.68719955, 112.90010063, 123.58829895,\n",
       "       102.20919911,  89.42919977, 124.58889974, 101.62939924,\n",
       "       106.89929917, 113.37980071, 117.24700073,  99.49239968,\n",
       "       121.78290043, 163.1942998 ,  87.27919865, 106.7344    ,\n",
       "       117.14480099, 127.60340152, 124.2244009 ,  80.59989946,\n",
       "       120.24240081, 157.80769774,  87.81089973, 110.49129872,\n",
       "       118.80969911, 171.96999851, 102.99039902, 105.51080048,\n",
       "       122.64240039, 158.00869761,  87.69739845,  93.06680055,\n",
       "       112.44240029, 177.23259984, 114.43749961, 119.2787004 ,\n",
       "        94.57130076, 125.70180046, 166.10520091, 114.96160024,\n",
       "       116.64500166,  88.32749863, 148.97500166, 120.37039928,\n",
       "        89.58349969, 111.5482999 , 117.04259989, 118.73800134,\n",
       "        88.04909935,  94.32650012, 116.98360002, 118.58690173,\n",
       "       120.41480085, 126.90349783, 121.94549991, 150.91869981,\n",
       "       163.34340057, 118.58409967, 120.4305015 , 151.4034009 ,\n",
       "       118.43829892, 172.6800986 , 105.53209944, 105.05930113,\n",
       "       149.98850144, 113.45550115, 124.87190114, 147.47489917,\n",
       "       119.50010124, 115.32460043, 112.24549973, 113.55630168,\n",
       "       141.45360179, 117.88589762, 102.94110037, 115.80470103,\n",
       "       103.92390153,  99.16450056, 117.39470073,  90.62080019,\n",
       "        91.55710023, 153.51019841, 102.61010003, 154.60180079,\n",
       "       114.30520128, 138.32310136,  90.32059821, 115.50959956,\n",
       "       114.61149972, 122.67940055, 121.73630057, 165.46450158,\n",
       "        92.92809954, 135.28290128, 121.33039941, 120.75570065,\n",
       "       104.70370045, 141.67380302, 121.48649923, 116.64330034,\n",
       "       113.5415004 , 127.06299783, 122.88409953, 125.69769939,\n",
       "       121.21090049,  86.78779929, 132.18890147, 144.06040257,\n",
       "        92.71169921, 158.34019995, 158.72120311, 126.29409906,\n",
       "       163.90759982, 108.9612996 , 109.58620066, 103.68479863,\n",
       "        94.21880053, 128.07970301, 107.1614003 , 160.52379996,\n",
       "       121.84690036, 131.97520075, 130.59150168, 160.75500025,\n",
       "        90.25239843, 175.39800209, 128.38080001, 126.87359832,\n",
       "        86.71309928, 124.57349926, 150.27879696,  89.63599989,\n",
       "       107.05209983, 109.03289966,  83.40719919, 135.70779929,\n",
       "       154.97500226, 139.1933039 ,  74.1857001 , 152.75850098,\n",
       "       126.16320065, 126.70930016, 127.41319956, 108.42559958,\n",
       "       156.1605001 , 114.55370083, 116.97880154, 125.2261991 ,\n",
       "       154.06350121, 121.24519982, 156.37219913,  93.03750072,\n",
       "       125.48160121, 125.74320037,  87.98350044,  92.33769943,\n",
       "       126.37919911, 128.72170366, 113.21180033, 117.46689723,\n",
       "       120.65080012, 127.28519755, 119.93110131, 136.77940081,\n",
       "        93.97789931, 119.8197008 , 113.07880104,  94.35149964,\n",
       "       108.58559975,  86.93939914, 108.89059935,  89.53489994,\n",
       "        92.50940024, 131.53180252, 162.32850012,  89.44990027,\n",
       "       119.68460078, 133.39420206, 123.95580018, 128.67100258,\n",
       "       102.00669852,  89.07629887, 132.09740087, 120.39760061,\n",
       "       108.51110011, 167.04510129, 115.16770054,  86.61689906,\n",
       "       118.81060057,  91.11939976, 161.43460013, 116.56820044,\n",
       "       121.53599984, 160.06039819, 120.05739926, 112.98469956,\n",
       "       108.43399884, 126.76189993,  76.27870024, 103.05599994,\n",
       "       127.9077027 , 121.71559903,  92.6346002 , 132.23620032,\n",
       "       118.06850089, 115.91169966, 154.40230279, 159.82030044,\n",
       "       109.97759967, 154.7773973 , 119.30680073, 160.23690051,\n",
       "       118.71929997, 158.83209861, 115.08199872, 116.38100017,\n",
       "       148.94169906, 114.64380081, 125.9230988 , 166.88969883,\n",
       "       117.9810001 , 125.04889923, 153.09920366, 153.4526022 ,\n",
       "       132.06840055, 114.69160071, 121.34520188, 124.76710044,\n",
       "        89.78440025, 122.86590018, 154.4336014 , 111.71280013,\n",
       "       106.77089981, 161.87340062, 118.53849971, 165.74310009,\n",
       "       134.02040135, 114.97149976, 152.99219955, 168.76670074,\n",
       "       114.76530051, 114.09020129, 157.89749909,  85.17819864,\n",
       "       127.10730111, 128.09330066, 128.80189951, 124.43140072,\n",
       "       123.88450063,  90.61800051, 153.35410005,  96.94799984,\n",
       "       136.82999972,  89.04469881, 107.78609975, 115.06190028,\n",
       "       112.78770061, 124.08489906,  91.3622988 , 125.37940135,\n",
       "       162.38119872, 119.82669877, 165.12590086, 126.90099765,\n",
       "       112.57879979, 127.55149892,  94.62309893,  90.89189973,\n",
       "       103.58209895, 120.79070003,  82.95029944, 126.1914998 ,\n",
       "       159.89390496, 117.46010084, 118.51039973, 119.7395999 ,\n",
       "       122.81929958, 120.08830123, 121.37050025, 118.38200048,\n",
       "       106.95909967, 148.22349998, 126.40929786, 115.62130063,\n",
       "        73.84409966, 127.82480083, 154.32560052, 122.42679985,\n",
       "       125.57140084,  88.88610015, 103.54839903, 124.82390009,\n",
       "       120.27160025,  73.35930073, 151.83269894, 121.42470019,\n",
       "       104.60319998,  86.58389754, 115.27009934, 172.26789748,\n",
       "       119.75860023, 160.17669756, 113.14149966, 121.1196003 ,\n",
       "       118.7054009 ,  96.00099986, 119.09760024, 126.06810053,\n",
       "       118.48149958,  95.98430045, 154.00120125, 122.13130013,\n",
       "       148.12469997, 159.58660162, 113.77580037, 122.52709921,\n",
       "       149.99219822, 127.34060039, 165.69690095, 135.38429963,\n",
       "       119.99550035, 166.94719858, 108.29929914, 121.6690987 ,\n",
       "       138.84470079, 106.08229893])"
      ]
     },
     "execution_count": 46,
     "metadata": {},
     "output_type": "execute_result"
    }
   ],
   "source": [
    "test_data_prediction"
   ]
  },
  {
   "cell_type": "markdown",
   "id": "7ef492bb",
   "metadata": {},
   "source": [
    "# R squared Error for comparision"
   ]
  },
  {
   "cell_type": "code",
   "execution_count": 47,
   "id": "bebafb4f",
   "metadata": {},
   "outputs": [
    {
     "name": "stdout",
     "output_type": "stream",
     "text": [
      "R squared error : 0.9890374673512494\n"
     ]
    }
   ],
   "source": [
    "error_score = metrics.r2_score(Y_test,test_data_prediction)\n",
    "print('R squared error :', error_score)"
   ]
  },
  {
   "cell_type": "markdown",
   "id": "0df6f7ca",
   "metadata": {},
   "source": [
    "# Comparing the actual values and predicted values in a plot"
   ]
  },
  {
   "cell_type": "code",
   "execution_count": 48,
   "id": "57949d21",
   "metadata": {},
   "outputs": [],
   "source": [
    "Y_test = list(Y_test)"
   ]
  },
  {
   "cell_type": "code",
   "execution_count": 53,
   "id": "60200f53",
   "metadata": {},
   "outputs": [
    {
     "data": {
      "image/png": "[encoded data removed]",
      "text/plain": [
       "<Figure size 432x288 with 1 Axes>"
      ]
     },
     "metadata": {
      "needs_background": "light"
     },
     "output_type": "display_data"
    }
   ],
   "source": [
    "plt.plot(Y_test, color = 'blue',label=' Actual Value')\n",
    "plt.plot(test_data_prediction, color='green',label = 'Predicted Value')\n",
    "plt.title('Actual Price vs Predicted Price')\n",
    "plt.xlabel('Number of values')\n",
    "plt.ylabel('GLD price')\n",
    "plt.legend()\n",
    "plt.show()"
   ]
  },
  {
   "cell_type": "code",
   "execution_count": null,
   "id": "9ece7957",
   "metadata": {},
   "outputs": [],
   "source": []
  }
 ],
 "metadata": {
  "kernelspec": {
   "display_name": "Python 3 (ipykernel)",
   "language": "python",
   "name": "python3"
  },
  "language_info": {
   "codemirror_mode": {
    "name": "ipython",
    "version": 3
   },
   "file_extension": ".py",
   "mimetype": "text/x-python",
   "name": "python",
   "nbconvert_exporter": "python",
   "pygments_lexer": "ipython3",
   "version": "3.9.7"
  }
 },
 "nbformat": 4,
 "nbformat_minor": 5
}
