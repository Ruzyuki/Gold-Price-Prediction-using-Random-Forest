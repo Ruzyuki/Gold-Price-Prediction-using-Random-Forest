{
 "cells": [
  {
   "cell_type": "code",
   "execution_count": 1,
   "id": "3fdbd602",
   "metadata": {},
   "outputs": [],
   "source": [
    "import numpy as np\n",
    "import pandas as pd\n",
    "import matplotlib.pyplot as plt\n",
    "import seaborn as sns\n",
    "from sklearn.model_selection import train_test_split\n",
    "from sklearn.ensemble import RandomForestRegressor\n",
    "from sklearn import metrics"
   ]
  },
  {
   "cell_type": "markdown",
   "id": "1fbd0207",
   "metadata": {},
   "source": [
    "Data Collection and Processing"
   ]
  },
  {
   "cell_type": "code",
   "execution_count": 2,
   "id": "ca1a0378",
   "metadata": {},
   "outputs": [],
   "source": [
    "# loading the csv data to a pandas dataframe\n",
    "gold_data = pd.read_csv(\"gold_price_data.csv\")"
   ]
  },
  {
   "cell_type": "code",
   "execution_count": 3,
   "id": "1b85334a",
   "metadata": {
    "scrolled": true
   },
   "outputs": [
    {
     "data": {
      "text/html": [
       "<div>\n",
       "<style scoped>\n",
       "    .dataframe tbody tr th:only-of-type {\n",
       "        vertical-align: middle;\n",
       "    }\n",
       "\n",
       "    .dataframe tbody tr th {\n",
       "        vertical-align: top;\n",
       "    }\n",
       "\n",
       "    .dataframe thead th {\n",
       "        text-align: right;\n",
       "    }\n",
       "</style>\n",
       "<table border=\"1\" class=\"dataframe\">\n",
       "  <thead>\n",
       "    <tr style=\"text-align: right;\">\n",
       "      <th></th>\n",
       "      <th>Date</th>\n",
       "      <th>SPX</th>\n",
       "      <th>GLD</th>\n",
       "      <th>USO</th>\n",
       "      <th>SLV</th>\n",
       "      <th>EUR/USD</th>\n",
       "    </tr>\n",
       "  </thead>\n",
       "  <tbody>\n",
       "    <tr>\n",
       "      <th>0</th>\n",
       "      <td>1/2/2008</td>\n",
       "      <td>1447.160034</td>\n",
       "      <td>84.860001</td>\n",
       "      <td>78.470001</td>\n",
       "      <td>15.180</td>\n",
       "      <td>1.471692</td>\n",
       "    </tr>\n",
       "    <tr>\n",
       "      <th>1</th>\n",
       "      <td>1/3/2008</td>\n",
       "      <td>1447.160034</td>\n",
       "      <td>85.570000</td>\n",
       "      <td>78.370003</td>\n",
       "      <td>15.285</td>\n",
       "      <td>1.474491</td>\n",
       "    </tr>\n",
       "    <tr>\n",
       "      <th>2</th>\n",
       "      <td>1/4/2008</td>\n",
       "      <td>1411.630005</td>\n",
       "      <td>85.129997</td>\n",
       "      <td>77.309998</td>\n",
       "      <td>15.167</td>\n",
       "      <td>1.475492</td>\n",
       "    </tr>\n",
       "    <tr>\n",
       "      <th>3</th>\n",
       "      <td>1/7/2008</td>\n",
       "      <td>1416.180054</td>\n",
       "      <td>84.769997</td>\n",
       "      <td>75.500000</td>\n",
       "      <td>15.053</td>\n",
       "      <td>1.468299</td>\n",
       "    </tr>\n",
       "    <tr>\n",
       "      <th>4</th>\n",
       "      <td>1/8/2008</td>\n",
       "      <td>1390.189941</td>\n",
       "      <td>86.779999</td>\n",
       "      <td>76.059998</td>\n",
       "      <td>15.590</td>\n",
       "      <td>1.557099</td>\n",
       "    </tr>\n",
       "  </tbody>\n",
       "</table>\n",
       "</div>"
      ],
      "text/plain": [
       "       Date          SPX        GLD        USO     SLV   EUR/USD\n",
       "0  1/2/2008  1447.160034  84.860001  78.470001  15.180  1.471692\n",
       "1  1/3/2008  1447.160034  85.570000  78.370003  15.285  1.474491\n",
       "2  1/4/2008  1411.630005  85.129997  77.309998  15.167  1.475492\n",
       "3  1/7/2008  1416.180054  84.769997  75.500000  15.053  1.468299\n",
       "4  1/8/2008  1390.189941  86.779999  76.059998  15.590  1.557099"
      ]
     },
     "execution_count": 3,
     "metadata": {},
     "output_type": "execute_result"
    }
   ],
   "source": [
    "gold_data.head()"
   ]
  },
  {
   "cell_type": "code",
   "execution_count": 4,
   "id": "6a850d60",
   "metadata": {},
   "outputs": [
    {
     "data": {
      "text/plain": [
       "(2290, 6)"
      ]
     },
     "execution_count": 4,
     "metadata": {},
     "output_type": "execute_result"
    }
   ],
   "source": [
    "gold_data.shape"
   ]
  },
  {
   "cell_type": "code",
   "execution_count": 5,
   "id": "7318e680",
   "metadata": {},
   "outputs": [
    {
     "data": {
      "text/html": [
       "<div>\n",
       "<style scoped>\n",
       "    .dataframe tbody tr th:only-of-type {\n",
       "        vertical-align: middle;\n",
       "    }\n",
       "\n",
       "    .dataframe tbody tr th {\n",
       "        vertical-align: top;\n",
       "    }\n",
       "\n",
       "    .dataframe thead th {\n",
       "        text-align: right;\n",
       "    }\n",
       "</style>\n",
       "<table border=\"1\" class=\"dataframe\">\n",
       "  <thead>\n",
       "    <tr style=\"text-align: right;\">\n",
       "      <th></th>\n",
       "      <th>SPX</th>\n",
       "      <th>GLD</th>\n",
       "      <th>USO</th>\n",
       "      <th>SLV</th>\n",
       "      <th>EUR/USD</th>\n",
       "    </tr>\n",
       "  </thead>\n",
       "  <tbody>\n",
       "    <tr>\n",
       "      <th>count</th>\n",
       "      <td>2290.000000</td>\n",
       "      <td>2290.000000</td>\n",
       "      <td>2290.000000</td>\n",
       "      <td>2290.000000</td>\n",
       "      <td>2290.000000</td>\n",
       "    </tr>\n",
       "    <tr>\n",
       "      <th>mean</th>\n",
       "      <td>1654.315776</td>\n",
       "      <td>122.732875</td>\n",
       "      <td>31.842221</td>\n",
       "      <td>20.084997</td>\n",
       "      <td>1.283653</td>\n",
       "    </tr>\n",
       "    <tr>\n",
       "      <th>std</th>\n",
       "      <td>519.111540</td>\n",
       "      <td>23.283346</td>\n",
       "      <td>19.523517</td>\n",
       "      <td>7.092566</td>\n",
       "      <td>0.131547</td>\n",
       "    </tr>\n",
       "    <tr>\n",
       "      <th>min</th>\n",
       "      <td>676.530029</td>\n",
       "      <td>70.000000</td>\n",
       "      <td>7.960000</td>\n",
       "      <td>8.850000</td>\n",
       "      <td>1.039047</td>\n",
       "    </tr>\n",
       "    <tr>\n",
       "      <th>25%</th>\n",
       "      <td>1239.874969</td>\n",
       "      <td>109.725000</td>\n",
       "      <td>14.380000</td>\n",
       "      <td>15.570000</td>\n",
       "      <td>1.171313</td>\n",
       "    </tr>\n",
       "    <tr>\n",
       "      <th>50%</th>\n",
       "      <td>1551.434998</td>\n",
       "      <td>120.580002</td>\n",
       "      <td>33.869999</td>\n",
       "      <td>17.268500</td>\n",
       "      <td>1.303297</td>\n",
       "    </tr>\n",
       "    <tr>\n",
       "      <th>75%</th>\n",
       "      <td>2073.010070</td>\n",
       "      <td>132.840004</td>\n",
       "      <td>37.827501</td>\n",
       "      <td>22.882500</td>\n",
       "      <td>1.369971</td>\n",
       "    </tr>\n",
       "    <tr>\n",
       "      <th>max</th>\n",
       "      <td>2872.870117</td>\n",
       "      <td>184.589996</td>\n",
       "      <td>117.480003</td>\n",
       "      <td>47.259998</td>\n",
       "      <td>1.598798</td>\n",
       "    </tr>\n",
       "  </tbody>\n",
       "</table>\n",
       "</div>"
      ],
      "text/plain": [
       "               SPX          GLD          USO          SLV      EUR/USD\n",
       "count  2290.000000  2290.000000  2290.000000  2290.000000  2290.000000\n",
       "mean   1654.315776   122.732875    31.842221    20.084997     1.283653\n",
       "std     519.111540    23.283346    19.523517     7.092566     0.131547\n",
       "min     676.530029    70.000000     7.960000     8.850000     1.039047\n",
       "25%    1239.874969   109.725000    14.380000    15.570000     1.171313\n",
       "50%    1551.434998   120.580002    33.869999    17.268500     1.303297\n",
       "75%    2073.010070   132.840004    37.827501    22.882500     1.369971\n",
       "max    2872.870117   184.589996   117.480003    47.259998     1.598798"
      ]
     },
     "execution_count": 5,
     "metadata": {},
     "output_type": "execute_result"
    }
   ],
   "source": [
    "gold_data.describe()"
   ]
  },
  {
   "cell_type": "code",
   "execution_count": 6,
   "id": "1e5ec919",
   "metadata": {},
   "outputs": [],
   "source": [
    "correlation = gold_data.corr()"
   ]
  },
  {
   "cell_type": "code",
   "execution_count": 7,
   "id": "76e468f3",
   "metadata": {},
   "outputs": [
    {
     "data": {
      "text/plain": [
       "<AxesSubplot:>"
      ]
     },
     "execution_count": 7,
     "metadata": {},
     "output_type": "execute_result"
    },
    {
     "data": {
      "image/png": "[encoded data removed]",
      "text/plain": [
       "<Figure size 576x576 with 2 Axes>"
      ]
     },
     "metadata": {
      "needs_background": "light"
     },
     "output_type": "display_data"
    }
   ],
   "source": [
    "#constructing the Heatmap to understand the correlation\n",
    "plt.figure(figsize=(8,8))\n",
    "sns.heatmap(correlation, cbar = True, square = True, fmt='.1f',annot=True, annot_kws={'size':8},cmap='Blues')"
   ]
  },
  {
   "cell_type": "code",
   "execution_count": 8,
   "id": "b348931b",
   "metadata": {},
   "outputs": [
    {
     "name": "stdout",
     "output_type": "stream",
     "text": [
      "SPX        0.049345\n",
      "GLD        1.000000\n",
      "USO       -0.186360\n",
      "SLV        0.866632\n",
      "EUR/USD   -0.024375\n",
      "Name: GLD, dtype: float64\n"
     ]
    }
   ],
   "source": [
    "# correlation values of GLD\n",
    "print(correlation['GLD']) "
   ]
  },
  {
   "cell_type": "markdown",
   "id": "a36637cd",
   "metadata": {},
   "source": [
    "#checking the distribution of gold price\n",
    "sns.distplot(gold_data['GLD'], color = 'green')"
   ]
  },
  {
   "cell_type": "code",
   "execution_count": 9,
   "id": "1a39cbc1",
   "metadata": {},
   "outputs": [],
   "source": [
    "# train test split\n",
    "X = gold_data.drop(['Date','GLD'],axis=1)\n",
    "Y = gold_data['GLD']"
   ]
  },
  {
   "cell_type": "code",
   "execution_count": 10,
   "id": "6e9c4300",
   "metadata": {},
   "outputs": [],
   "source": [
    "X_train,X_test,Y_train,Y_test=train_test_split(X,Y,test_size=0.2,random_state = 2 )"
   ]
  },
  {
   "cell_type": "markdown",
   "id": "8ec26c3a",
   "metadata": {},
   "source": [
    "# Model Training"
   ]
  },
  {
   "cell_type": "markdown",
   "id": "9276125d",
   "metadata": {},
   "source": [
    "# Using Random Forest Algorithm"
   ]
  },
  {
   "cell_type": "code",
   "execution_count": 11,
   "id": "c74ea0a1",
   "metadata": {},
   "outputs": [],
   "source": [
    "regressor = RandomForestRegressor(n_estimators=100)"
   ]
  },
  {
   "cell_type": "code",
   "execution_count": 12,
   "id": "fd920706",
   "metadata": {},
   "outputs": [
    {
     "data": {
      "text/plain": [
       "RandomForestRegressor()"
      ]
     },
     "execution_count": 12,
     "metadata": {},
     "output_type": "execute_result"
    }
   ],
   "source": [
    "# training the model\n",
    "regressor.fit(X_train,Y_train)"
   ]
  },
  {
   "cell_type": "markdown",
   "id": "54e7c08f",
   "metadata": {},
   "source": [
    "# Model Evaluation"
   ]
  },
  {
   "cell_type": "code",
   "execution_count": 13,
   "id": "a1045067",
   "metadata": {},
   "outputs": [],
   "source": [
    "# prediction on Test Data\n",
    "test_data_prediction = regressor.predict(X_test)"
   ]
  },
  {
   "cell_type": "code",
   "execution_count": 14,
   "id": "802f6831",
   "metadata": {},
   "outputs": [
    {
     "data": {
      "text/plain": [
       "array([168.70679949,  81.90509999, 116.12190017, 127.54810085,\n",
       "       120.77220126, 154.7622978 , 150.78709832, 126.22890067,\n",
       "       117.42089862, 125.96810087, 116.60480097, 172.01260086,\n",
       "       141.1297983 , 167.94219872, 115.18470003, 118.0080002 ,\n",
       "       138.71520308, 170.05130105, 159.8190032 , 161.7606991 ,\n",
       "       155.0584002 , 125.46690006, 175.95109994, 157.27970386,\n",
       "       125.1939004 ,  93.70689957,  77.1113002 , 120.56880006,\n",
       "       118.97639888, 167.43889994,  87.9239009 , 125.28740028,\n",
       "        91.15380093, 117.57210013, 121.122399  , 136.5621012 ,\n",
       "       115.35330143, 115.28470087, 146.78880002, 107.02430096,\n",
       "       104.63370244,  87.18139785, 126.38390042, 117.76499998,\n",
       "       152.96159879, 119.60810022, 108.38800016, 108.21329846,\n",
       "        93.12310046, 127.22959743,  75.56050013, 113.68659924,\n",
       "       121.35080038, 111.26399924, 118.86659912, 120.43339952,\n",
       "       159.42909997, 167.67680081, 147.00809706,  85.78699849,\n",
       "        94.05330045,  86.65929872,  90.41180038, 118.98690099,\n",
       "       126.44370105, 127.60299988, 168.53499993, 122.25569931,\n",
       "       117.43699868,  98.28110036, 168.30840183, 143.1334989 ,\n",
       "       131.82520197, 121.13340195, 121.04209938, 119.77410075,\n",
       "       114.59260152, 118.18480051, 107.10040117, 127.8722011 ,\n",
       "       114.06989955, 107.14449982, 116.92020042, 119.61839867,\n",
       "        88.82150057,  88.34539892, 146.56560288, 127.26570035,\n",
       "       113.29590022, 110.00899818, 108.24099912,  77.38139905,\n",
       "       169.17440153, 113.9937991 , 121.6215993 , 127.88250121,\n",
       "       154.9691981 ,  91.79579992, 135.61870121, 159.34840248,\n",
       "       125.23510041, 125.3615006 , 130.63770174, 114.83050104,\n",
       "       119.88279993,  92.08999993, 110.20579887, 166.63989938,\n",
       "       156.7864992 , 114.27159963, 106.60730157,  79.17290014,\n",
       "       113.1659006 , 125.77580089, 107.21519952, 119.34710077,\n",
       "       156.45330375, 159.9205994 , 120.47229995, 136.1360026 ,\n",
       "       101.50819987, 117.46419795, 119.03190018, 112.89580078,\n",
       "       102.77949933, 160.28579837,  98.95030052, 147.76730018,\n",
       "       125.29620086, 169.90809955, 125.88469845, 127.37629696,\n",
       "       127.40520131, 113.56059957, 113.00970056, 123.65229926,\n",
       "       102.12369909,  89.03660002, 124.62159946, 101.33489943,\n",
       "       107.22179875, 113.53870058, 117.41220074,  98.70019964,\n",
       "       121.61020053, 163.21289966,  87.32029853, 106.70860011,\n",
       "       117.33120059, 127.69360155, 124.31300059,  80.73379926,\n",
       "       120.18210057, 159.21709719,  87.92479983, 109.96549986,\n",
       "       118.58969943, 172.27769893, 103.0224992 , 105.73620066,\n",
       "       122.72350064, 159.07829725,  87.76619833,  93.30200045,\n",
       "       112.43240032, 177.71659946, 114.37680009, 119.11580024,\n",
       "        94.75610098, 125.42550042, 165.81470078, 114.96860044,\n",
       "       116.79370127,  88.39869887, 148.66600095, 120.42879936,\n",
       "        89.39919952, 112.17800018, 117.55090056, 118.80100119,\n",
       "        88.24919916,  94.00029988, 117.17130014, 118.61440185,\n",
       "       120.2452002 , 126.71309856, 121.92259964, 151.43409986,\n",
       "       164.57250074, 118.51709947, 120.10170168, 151.00279999,\n",
       "       118.59979888, 172.8928988 , 104.98019932, 104.9753013 ,\n",
       "       149.62530135, 113.72310094, 124.83750097, 147.11449982,\n",
       "       119.44570104, 115.08530027, 113.00300029, 113.47040191,\n",
       "       141.06220116, 117.90299781, 102.99520064, 115.78890114,\n",
       "       103.68450187,  98.28820059, 117.27000075,  90.4986002 ,\n",
       "        91.40420051, 153.66069847, 102.70239998, 155.02890117,\n",
       "       114.30710153, 138.33700058,  90.13039826, 115.61009909,\n",
       "       113.77809976, 123.12470018, 121.63660052, 165.41030249,\n",
       "        92.79809946, 135.49960132, 121.37999906, 120.67400085,\n",
       "       104.79200015, 139.63600324, 121.62609908, 116.58620038,\n",
       "       113.53760034, 127.12039764, 122.5843995 , 125.77389957,\n",
       "       121.23790032,  86.92669881, 132.42370203, 145.11900173,\n",
       "        92.68919988, 158.29390021, 159.34900197, 126.20649945,\n",
       "       165.39839994, 108.81759948, 109.58990075, 103.6351982 ,\n",
       "        94.41230084, 127.83170327, 106.93730056, 161.34040044,\n",
       "       121.63720044, 132.10370078, 130.69540118, 160.3455006 ,\n",
       "        90.13649846, 174.49570153, 127.74980057, 126.85339915,\n",
       "        86.35899916, 124.57369991, 149.74919765,  89.62919996,\n",
       "       106.91540001, 109.15189966,  84.02249912, 135.88679941,\n",
       "       155.53230178, 137.32900409,  73.98220033, 153.08419995,\n",
       "       126.09470039, 126.81080022, 127.49779911, 108.93339945,\n",
       "       156.55440013, 114.43800101, 116.96710143, 125.33039926,\n",
       "       154.15740154, 121.34909975, 156.46909812,  92.97870034,\n",
       "       125.50690146, 125.66489997,  88.1190004 ,  92.30369908,\n",
       "       126.15279988, 128.53180374, 113.26370067, 117.80489781,\n",
       "       120.90080031, 127.16659771, 119.55770138, 136.3831011 ,\n",
       "        94.1583997 , 119.85550033, 113.18730104,  94.20519963,\n",
       "       108.5690998 ,  86.72839909, 109.2323996 ,  89.71259961,\n",
       "        92.37630025, 131.62470308, 162.47409999,  89.22690048,\n",
       "       119.7497008 , 133.29120212, 123.93440005, 128.3969015 ,\n",
       "       101.9334985 ,  88.9560992 , 131.81090078, 119.6087002 ,\n",
       "       108.24269987, 166.04330126, 115.13690044,  86.63429884,\n",
       "       118.9410005 ,  91.0426997 , 161.73640007, 116.47580042,\n",
       "       121.5071002 , 160.13669785, 120.25049925, 112.80279927,\n",
       "       108.49959889, 126.6288995 ,  76.75529981, 103.05279985,\n",
       "       127.69940303, 121.79599932,  92.51419996, 131.46660105,\n",
       "       118.08930089, 115.93079983, 154.65870248, 159.13060092,\n",
       "       110.16379995, 153.56819709, 119.29020067, 160.68570088,\n",
       "       118.68490039, 158.57019901, 115.18359916, 116.35840033,\n",
       "       148.73439928, 114.84690051, 125.68169844, 165.48749907,\n",
       "       117.70110005, 125.23739939, 153.36270355, 153.5013023 ,\n",
       "       132.31510108, 114.7133    , 121.28470193, 125.16800095,\n",
       "        89.66050065, 123.11870025, 155.27980178, 111.81590056,\n",
       "       106.62530014, 161.55960086, 118.54549981, 165.69819944,\n",
       "       134.27600071, 114.96279968, 152.96049892, 168.59520051,\n",
       "       114.67980004, 113.81990138, 159.11929919,  85.14469866,\n",
       "       127.04290091, 127.91760076, 128.9377996 , 124.20290043,\n",
       "       123.98780096,  90.47890081, 153.15800082,  97.2049998 ,\n",
       "       137.82220005,  89.08049872, 107.1330999 , 114.90490045,\n",
       "       112.80280069, 124.38059928,  91.30199893, 125.39440095,\n",
       "       162.53909865, 119.95699832, 165.0724009 , 126.77659841,\n",
       "       112.34470046, 127.6325992 ,  94.82349931,  90.98449981,\n",
       "       102.77779931, 120.78090013,  82.92699974, 126.21189981,\n",
       "       160.47070445, 117.36140074, 118.36259978, 120.07739986,\n",
       "       122.29569942, 120.10720126, 121.62640011, 118.33350038,\n",
       "       107.20859976, 148.13280007, 126.47019826, 115.69750098,\n",
       "        74.08279967, 127.80530114, 153.64920046, 122.58090019,\n",
       "       125.58320033,  88.79679969, 103.2952986 , 124.9861001 ,\n",
       "       120.23580056,  73.39020086, 151.53030039, 121.15990047,\n",
       "       104.71040023,  86.37159799, 115.22069931, 172.2716987 ,\n",
       "       119.79130026, 160.34679778, 113.19239948, 121.28090019,\n",
       "       118.58650067,  95.87909985, 118.85530038, 125.96120058,\n",
       "       118.73639944,  95.64320044, 153.77100211, 121.89719999,\n",
       "       147.6106001 , 159.09080203, 113.7203003 , 122.45029941,\n",
       "       149.04389853, 126.95000032, 165.89000017, 136.06500065,\n",
       "       119.93889954, 167.14159857, 108.57069926, 121.6510987 ,\n",
       "       139.19010181, 106.96309888])"
      ]
     },
     "execution_count": 14,
     "metadata": {},
     "output_type": "execute_result"
    }
   ],
   "source": [
    "test_data_prediction"
   ]
  },
  {
   "cell_type": "markdown",
   "id": "7ef492bb",
   "metadata": {},
   "source": [
    "# R squared Error for comparision"
   ]
  },
  {
   "cell_type": "code",
   "execution_count": 15,
   "id": "bebafb4f",
   "metadata": {},
   "outputs": [
    {
     "name": "stdout",
     "output_type": "stream",
     "text": [
      "R squared error : 0.9899004247979231\n"
     ]
    }
   ],
   "source": [
    "error_score = metrics.r2_score(Y_test,test_data_prediction)\n",
    "print('R squared error :', error_score)"
   ]
  },
  {
   "cell_type": "markdown",
   "id": "0df6f7ca",
   "metadata": {},
   "source": [
    "# Comparing the actual values and predicted values in a plot"
   ]
  },
  {
   "cell_type": "code",
   "execution_count": 16,
   "id": "57949d21",
   "metadata": {},
   "outputs": [],
   "source": [
    "Y_test = list(Y_test)"
   ]
  },
  {
   "cell_type": "code",
   "execution_count": 17,
   "id": "60200f53",
   "metadata": {},
   "outputs": [
    {
     "data": {
      "image/png": "[encoded data removed]",
      "text/plain": [
       "<Figure size 432x288 with 1 Axes>"
      ]
     },
     "metadata": {
      "needs_background": "light"
     },
     "output_type": "display_data"
    }
   ],
   "source": [
    "plt.plot(Y_test, color = 'blue',label=' Actual Value')\n",
    "plt.plot(test_data_prediction, color='green',label = 'Predicted Value')\n",
    "plt.title('Actual Price vs Predicted Price')\n",
    "plt.xlabel('Number of values')\n",
    "plt.ylabel('GLD price')\n",
    "plt.legend()\n",
    "plt.show()"
   ]
  },
  {
   "cell_type": "markdown",
   "id": "cf2550d3",
   "metadata": {},
   "source": [
    " # Building a Predictive System"
   ]
  },
  {
   "cell_type": "code",
   "execution_count": 19,
   "id": "3f13966b",
   "metadata": {},
   "outputs": [
    {
     "name": "stdout",
     "output_type": "stream",
     "text": [
      "[85.94339925]\n"
     ]
    }
   ],
   "source": [
    "input_data = (1400,75,15,1.55)\n",
    "\n",
    "#changing input data into a numpy array\n",
    "input_data_as_numpy_array = np.array(input_data)\n",
    "\n",
    "# reshape the array\n",
    "input_data_reshaped = input_data_as_numpy_array.reshape(1,-1)\n",
    "\n",
    "prediction = regressor.predict(input_data_reshaped)\n",
    "print(prediction)"
   ]
  },
  {
   "cell_type": "code",
   "execution_count": null,
   "id": "345de461",
   "metadata": {},
   "outputs": [],
   "source": []
  }
 ],
 "metadata": {
  "kernelspec": {
   "display_name": "Python 3 (ipykernel)",
   "language": "python",
   "name": "python3"
  },
  "language_info": {
   "codemirror_mode": {
    "name": "ipython",
    "version": 3
   },
   "file_extension": ".py",
   "mimetype": "text/x-python",
   "name": "python",
   "nbconvert_exporter": "python",
   "pygments_lexer": "ipython3",
   "version": "3.9.7"
  }
 },
 "nbformat": 4,
 "nbformat_minor": 5
}
